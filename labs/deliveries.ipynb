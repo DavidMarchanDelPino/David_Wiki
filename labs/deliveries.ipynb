{
  "cells": [
    {
      "cell_type": "raw",
      "metadata": {},
      "source": [
        "---\n",
        "title: \"Quarto Markdown: code & data\"\n",
        "subtitle: Code (4/7)\n",
        "author: albertprofe\n",
        "date: \"06/01/2021\"\n",
        "date-modified: last-modified\n",
        "date-format: full\n",
        "description: Code on your Quarto web\n",
        "categories: [markup, qmd, quarto, python]\n",
        "toc: true\n",
        "number-sections: true\n",
        "format:\n",
        "  html\n",
        "---"
      ],
      "id": "e64d04f8"
    },
    {
      "cell_type": "markdown",
      "metadata": {},
      "source": [
        "Observable JS\n",
        "\n",
        "\n",
        "\n",
        " Api REST call to server and render the data from JSON\n",
        "\n",
        " \n",
        "\n",
        "\n",
        "\n",
        "\n",
        "```{ojs}\n",
        "i = {\n",
        "  let i = 0;\n",
        "  while (true) {\n",
        "    yield ++i;\n",
        "  }\n",
        "}\n",
        "```\n",
        "\n",
        "```{ojs}\n",
        "i \n",
        "```"
      ],
      "id": "e43d3228"
    },
    {
      "cell_type": "code",
      "metadata": {},
      "source": [
        "#| label: fig-polar\n",
        "#| fig-cap: A line plot on a polar axis\n",
        "\n",
        "import numpy as np\n",
        "import matplotlib.pyplot as plt\n",
        "\n",
        "r = np.arange(0, 2, 0.01)\n",
        "theta = 2 * np.pi * r\n",
        "fig, ax = plt.subplots(\n",
        "  subplot_kw = {'projection': 'polar'} \n",
        ")\n",
        "ax.plot(theta, r)\n",
        "ax.set_rticks([0.5, 1, 1.5, 2])\n",
        "ax.grid(True)\n",
        "plt.show()"
      ],
      "id": "fig-polar",
      "execution_count": null,
      "outputs": []
    }
  ],
  "metadata": {
    "kernelspec": {
      "name": "python3",
      "language": "python",
      "display_name": "Python 3 (ipykernel)"
    }
  },
  "nbformat": 4,
  "nbformat_minor": 5
}