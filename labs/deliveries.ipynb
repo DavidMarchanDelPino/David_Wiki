{
  "cells": [
    {
      "cell_type": "raw",
      "metadata": {},
      "source": [
        "---\n",
        "title: \"Quarto Markdown: code & data\"\n",
        "subtitle: Code (4/7)\n",
        "author: albertprofe\n",
        "date: \"06/01/2021\"\n",
        "date-modified: last-modified\n",
        "date-format: full\n",
        "description: Code on your Quarto web\n",
        "categories: [markup, qmd, quarto, python]\n",
        "toc: true\n",
        "number-sections: true\n",
        "format:\n",
        "  html\n",
        "---"
      ],
      "id": "1b71031d"
    },
    {
      "cell_type": "markdown",
      "metadata": {},
      "source": [
        "Observable JS\n",
        "\n",
        "\n",
        "\n",
        " Api REST call to server and render the data from JSON\n",
        "\n",
        " \n",
        "\n",
        "\n",
        "\n",
        "\n",
        "```{ojs}\n",
        "i = {\n",
        "  let i = 0;\n",
        "  while (true) {\n",
        "    yield ++i;\n",
        "  }\n",
        "}\n",
        "```\n",
        "\n",
        "```{ojs}\n",
        "i \n",
        "```"
      ],
      "id": "1480217d"
    },
    {
      "cell_type": "code",
      "metadata": {},
      "source": [
        "import requests\n",
        "\n",
        "# Make a GET request to the API endpoint\n",
        "response = requests.get(\"https://api.example.com/data\")\n",
        "\n",
        "d3 = require('d3')\n",
        "\n",
        "contributors = await d3.json(\n",
        "  \"https://api.github.com/repos/pandas-dev/pandas/stats/contributors\"\n",
        ")\n",
        "\n",
        "commits = contributors.map(contributor => {\n",
        "  const author = contributor.author;\n",
        "  return {\n",
        "    name: author.login,\n",
        "    title: author.login,\n",
        "    group: author.type,\n",
        "    value: contributor.total\n",
        "  }\n",
        "})\n",
        "# Check if the request was successful (status code 200)\n",
        "if response.status_code == 200:\n",
        "    # Parse the JSON response\n",
        "    data = response.json()\n",
        "    \n",
        "    # Print the data\n",
        "    for item in data:\n",
        "        print(item)\n",
        "else:\n",
        "    print(\"Error: API request failed.\")"
      ],
      "id": "ad28d597",
      "execution_count": null,
      "outputs": []
    }
  ],
  "metadata": {
    "kernelspec": {
      "name": "python3",
      "language": "python",
      "display_name": "Python 3 (ipykernel)"
    }
  },
  "nbformat": 4,
  "nbformat_minor": 5
}