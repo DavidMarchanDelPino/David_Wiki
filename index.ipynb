{
  "cells": [
    {
      "cell_type": "raw",
      "metadata": {},
      "source": [
        "---\n",
        "title: \"Author: David Marchan del Pino\"\n",
        "---"
      ],
      "id": "1caea51a"
    },
    {
      "cell_type": "markdown",
      "metadata": {},
      "source": [
        "![](img/home/desarrollo-web-3.jpg)\n",
        "\n",
        "## What you can fin on this Quarto web? \n",
        "   - 1) My [course notes](/class_notes/clases.qmd) fom the CIFO course\n",
        "   - 2) The resolution of the laboratories and the links of my repos with the code\n",
        "   - 3) To-do task that I consider or other task provided by the profesor (not implemented)\n",
        "   - 4) Some tools that I use to perform my solutions and other functionalities that I am curious abaut (to-do)\n"
      ],
      "id": "d4acc65e"
    },
    {
      "cell_type": "code",
      "metadata": {},
      "source": [
        "# This is a Python code block\n",
        "x = 10\n",
        "y = 20\n",
        "print(\"The sum of x and y is:\", x + y)"
      ],
      "id": "7ec14b95",
      "execution_count": null,
      "outputs": []
    }
  ],
  "metadata": {
    "kernelspec": {
      "name": "python3",
      "language": "python",
      "display_name": "Python 3 (ipykernel)"
    }
  },
  "nbformat": 4,
  "nbformat_minor": 5
}